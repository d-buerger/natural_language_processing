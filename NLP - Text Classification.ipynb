{
 "cells": [
  {
   "cell_type": "markdown",
   "metadata": {},
   "source": [
    "# Text classification (Naive Bayes) - Daniel Buerger"
   ]
  },
  {
   "cell_type": "markdown",
   "metadata": {},
   "source": [
    "### Libraries Import and Reading data"
   ]
  },
  {
   "cell_type": "code",
   "execution_count": 4,
   "metadata": {},
   "outputs": [
    {
     "name": "stdout",
     "output_type": "stream",
     "text": [
      "  label                                               text\n",
      "0   ham  Go until jurong point, crazy.. Available only ...\n",
      "1   ham                      Ok lar... Joking wif u oni...\n",
      "2  spam  Free entry in 2 a wkly comp to win FA Cup fina...\n",
      "3   ham  U dun say so early hor... U c already then say...\n",
      "4   ham  Nah I don't think he goes to usf, he lives aro...\n",
      "5  spam  FreeMsg Hey there darling it's been 3 week's n...\n",
      "6   ham  Even my brother is not like to speak with me. ...\n",
      "7   ham  As per your request 'Melle Melle (Oru Minnamin...\n",
      "8  spam  WINNER!! As a valued network customer you have...\n",
      "9  spam  Had your mobile 11 months or more? U R entitle...\n"
     ]
    }
   ],
   "source": [
    "import nltk\n",
    "import pandas as pd\n",
    "import numpy as np\n",
    "\n",
    "data = pd.read_csv('Spam_data.csv', sep='\\t', names=['label','text'])\n",
    "print(data.head(n = 10))"
   ]
  },
  {
   "cell_type": "markdown",
   "metadata": {},
   "source": [
    "### Basic Data exploration"
   ]
  },
  {
   "cell_type": "code",
   "execution_count": 11,
   "metadata": {},
   "outputs": [
    {
     "data": {
      "text/html": [
       "<div>\n",
       "<style scoped>\n",
       "    .dataframe tbody tr th:only-of-type {\n",
       "        vertical-align: middle;\n",
       "    }\n",
       "\n",
       "    .dataframe tbody tr th {\n",
       "        vertical-align: top;\n",
       "    }\n",
       "\n",
       "    .dataframe thead th {\n",
       "        text-align: right;\n",
       "    }\n",
       "</style>\n",
       "<table border=\"1\" class=\"dataframe\">\n",
       "  <thead>\n",
       "    <tr style=\"text-align: right;\">\n",
       "      <th></th>\n",
       "      <th>label</th>\n",
       "      <th>text</th>\n",
       "    </tr>\n",
       "  </thead>\n",
       "  <tbody>\n",
       "    <tr>\n",
       "      <th>count</th>\n",
       "      <td>5572</td>\n",
       "      <td>5572</td>\n",
       "    </tr>\n",
       "    <tr>\n",
       "      <th>unique</th>\n",
       "      <td>2</td>\n",
       "      <td>5169</td>\n",
       "    </tr>\n",
       "    <tr>\n",
       "      <th>top</th>\n",
       "      <td>ham</td>\n",
       "      <td>Sorry, I'll call later</td>\n",
       "    </tr>\n",
       "    <tr>\n",
       "      <th>freq</th>\n",
       "      <td>4825</td>\n",
       "      <td>30</td>\n",
       "    </tr>\n",
       "  </tbody>\n",
       "</table>\n",
       "</div>"
      ],
      "text/plain": [
       "       label                    text\n",
       "count   5572                    5572\n",
       "unique     2                    5169\n",
       "top      ham  Sorry, I'll call later\n",
       "freq    4825                      30"
      ]
     },
     "execution_count": 11,
     "metadata": {},
     "output_type": "execute_result"
    }
   ],
   "source": [
    "data.describe()"
   ]
  },
  {
   "cell_type": "code",
   "execution_count": 12,
   "metadata": {},
   "outputs": [
    {
     "name": "stdout",
     "output_type": "stream",
     "text": [
      "<class 'pandas.core.frame.DataFrame'>\n",
      "RangeIndex: 5572 entries, 0 to 5571\n",
      "Data columns (total 2 columns):\n",
      "label    5572 non-null object\n",
      "text     5572 non-null object\n",
      "dtypes: object(2)\n",
      "memory usage: 87.1+ KB\n"
     ]
    }
   ],
   "source": [
    "data.info()"
   ]
  },
  {
   "cell_type": "code",
   "execution_count": 13,
   "metadata": {},
   "outputs": [
    {
     "data": {
      "text/plain": [
       "ham     4825\n",
       "spam     747\n",
       "Name: label, dtype: int64"
      ]
     },
     "execution_count": 13,
     "metadata": {},
     "output_type": "execute_result"
    }
   ],
   "source": [
    "data.label.value_counts()"
   ]
  },
  {
   "cell_type": "markdown",
   "metadata": {},
   "source": [
    "### New Feature"
   ]
  },
  {
   "cell_type": "code",
   "execution_count": 5,
   "metadata": {},
   "outputs": [],
   "source": [
    "data['text_len'] = data['text'].apply(len)"
   ]
  },
  {
   "cell_type": "code",
   "execution_count": 7,
   "metadata": {},
   "outputs": [
    {
     "data": {
      "text/plain": [
       "<matplotlib.axes._subplots.AxesSubplot at 0x2571906bf60>"
      ]
     },
     "execution_count": 7,
     "metadata": {},
     "output_type": "execute_result"
    },
    {
     "data": {
      "image/png": "[encoded data removed]",
      "text/plain": [
       "<Figure size 432x288 with 1 Axes>"
      ]
     },
     "metadata": {
      "needs_background": "light"
     },
     "output_type": "display_data"
    }
   ],
   "source": [
    "import matplotlib.pyplot as plt\n",
    "import seaborn as sns\n",
    "%matplotlib inline\n",
    "\n",
    "# Make bins of size 20, from 0 to 200\n",
    "bins = range(0, 200, 20)\n",
    "data['text_len'].plot.hist(bins=bins)"
   ]
  },
  {
   "cell_type": "markdown",
   "metadata": {},
   "source": [
    "#### We can see the the majority (over 1400) of the texts have lengths between 20 to 40"
   ]
  },
  {
   "cell_type": "code",
   "execution_count": 39,
   "metadata": {},
   "outputs": [
    {
     "name": "stdout",
     "output_type": "stream",
     "text": [
      "Ok lar... Joking wif u oni...\n"
     ]
    },
    {
     "data": {
      "text/plain": [
       "29"
      ]
     },
     "execution_count": 39,
     "metadata": {},
     "output_type": "execute_result"
    }
   ],
   "source": [
    "print(data.text.loc[1])\n",
    "len(data.text.loc[1])"
   ]
  },
  {
   "cell_type": "code",
   "execution_count": 43,
   "metadata": {},
   "outputs": [
    {
     "data": {
      "text/plain": [
       "array([<matplotlib.axes._subplots.AxesSubplot object at 0x0000024671722E80>,\n",
       "       <matplotlib.axes._subplots.AxesSubplot object at 0x000002467193F320>],\n",
       "      dtype=object)"
      ]
     },
     "execution_count": 43,
     "metadata": {},
     "output_type": "execute_result"
    },
    {
     "data": {
      "image/png": "[encoded data removed]",
      "text/plain": [
       "<Figure size 864x288 with 2 Axes>"
      ]
     },
     "metadata": {},
     "output_type": "display_data"
    }
   ],
   "source": [
    "data.hist(column='text_len', by='label', bins=50, figsize=(12,4))"
   ]
  },
  {
   "cell_type": "markdown",
   "metadata": {},
   "source": [
    "#### We can see that lhighest number of spam texts have character length between 150 and 170.\n",
    "#### but most of the ham texts have texts character length between 20 to 50.\n",
    "#### telling us that ham messages are in general much shorter."
   ]
  },
  {
   "cell_type": "code",
   "execution_count": 53,
   "metadata": {},
   "outputs": [],
   "source": [
    "pass"
   ]
  },
  {
   "cell_type": "markdown",
   "metadata": {},
   "source": [
    "## Frequency distribution of the top 50 most common words in the texts"
   ]
  },
  {
   "cell_type": "code",
   "execution_count": 8,
   "metadata": {},
   "outputs": [
    {
     "data": {
      "image/png": "[encoded data removed]",
      "text/plain": [
       "<Figure size 1008x576 with 1 Axes>"
      ]
     },
     "metadata": {
      "needs_background": "light"
     },
     "output_type": "display_data"
    }
   ],
   "source": [
    "import string\n",
    "\n",
    "plt.figure(figsize=(14,8))\n",
    "txt = \" \".join(data['text']) # make a string of all the strings joing by space.\n",
    "words = txt.translate(string.punctuation).lower().split() # ignore punctuations and tokenize by splitting on space character.\n",
    "fd = nltk.FreqDist(words) # Make a dictionary with words as keys and their frequency as dictionary values.\n",
    "fd.plot(50, cumulative = False) # Plot a frequency plot"
   ]
  },
  {
   "cell_type": "markdown",
   "metadata": {},
   "source": [
    "### most common words are stop words as expected"
   ]
  },
  {
   "cell_type": "code",
   "execution_count": 60,
   "metadata": {},
   "outputs": [
    {
     "data": {
      "text/plain": [
       "[('to', 2237),\n",
       " ('i', 2217),\n",
       " ('you', 1921),\n",
       " ('a', 1433),\n",
       " ('the', 1329),\n",
       " ('u', 998),\n",
       " ('and', 968),\n",
       " ('is', 869),\n",
       " ('in', 859),\n",
       " ('my', 755)]"
      ]
     },
     "execution_count": 60,
     "metadata": {},
     "output_type": "execute_result"
    }
   ],
   "source": [
    "fd.most_common(10)"
   ]
  },
  {
   "cell_type": "markdown",
   "metadata": {},
   "source": [
    "## Tokenization with Regrex, without NLTK"
   ]
  },
  {
   "cell_type": "code",
   "execution_count": 9,
   "metadata": {},
   "outputs": [
    {
     "data": {
      "text/html": [
       "<div>\n",
       "<style scoped>\n",
       "    .dataframe tbody tr th:only-of-type {\n",
       "        vertical-align: middle;\n",
       "    }\n",
       "\n",
       "    .dataframe tbody tr th {\n",
       "        vertical-align: top;\n",
       "    }\n",
       "\n",
       "    .dataframe thead th {\n",
       "        text-align: right;\n",
       "    }\n",
       "</style>\n",
       "<table border=\"1\" class=\"dataframe\">\n",
       "  <thead>\n",
       "    <tr style=\"text-align: right;\">\n",
       "      <th></th>\n",
       "      <th>label</th>\n",
       "      <th>text</th>\n",
       "      <th>text_len</th>\n",
       "      <th>text1</th>\n",
       "    </tr>\n",
       "  </thead>\n",
       "  <tbody>\n",
       "    <tr>\n",
       "      <th>0</th>\n",
       "      <td>ham</td>\n",
       "      <td>Go until jurong point, crazy.. Available only ...</td>\n",
       "      <td>111</td>\n",
       "      <td>go until jurong point crazy available only in ...</td>\n",
       "    </tr>\n",
       "    <tr>\n",
       "      <th>1</th>\n",
       "      <td>ham</td>\n",
       "      <td>Ok lar... Joking wif u oni...</td>\n",
       "      <td>29</td>\n",
       "      <td>ok lar joking wif u oni</td>\n",
       "    </tr>\n",
       "    <tr>\n",
       "      <th>2</th>\n",
       "      <td>spam</td>\n",
       "      <td>Free entry in 2 a wkly comp to win FA Cup fina...</td>\n",
       "      <td>155</td>\n",
       "      <td>free entry in a wkly comp to win fa cup final ...</td>\n",
       "    </tr>\n",
       "    <tr>\n",
       "      <th>3</th>\n",
       "      <td>ham</td>\n",
       "      <td>U dun say so early hor... U c already then say...</td>\n",
       "      <td>49</td>\n",
       "      <td>u dun say so early hor u c already then say</td>\n",
       "    </tr>\n",
       "    <tr>\n",
       "      <th>4</th>\n",
       "      <td>ham</td>\n",
       "      <td>Nah I don't think he goes to usf, he lives aro...</td>\n",
       "      <td>61</td>\n",
       "      <td>nah i don t think he goes to usf he lives arou...</td>\n",
       "    </tr>\n",
       "  </tbody>\n",
       "</table>\n",
       "</div>"
      ],
      "text/plain": [
       "  label                                               text  text_len  \\\n",
       "0   ham  Go until jurong point, crazy.. Available only ...       111   \n",
       "1   ham                      Ok lar... Joking wif u oni...        29   \n",
       "2  spam  Free entry in 2 a wkly comp to win FA Cup fina...       155   \n",
       "3   ham  U dun say so early hor... U c already then say...        49   \n",
       "4   ham  Nah I don't think he goes to usf, he lives aro...        61   \n",
       "\n",
       "                                               text1  \n",
       "0  go until jurong point crazy available only in ...  \n",
       "1                            ok lar joking wif u oni  \n",
       "2  free entry in a wkly comp to win fa cup final ...  \n",
       "3        u dun say so early hor u c already then say  \n",
       "4  nah i don t think he goes to usf he lives arou...  "
      ]
     },
     "execution_count": 9,
     "metadata": {},
     "output_type": "execute_result"
    }
   ],
   "source": [
    "from nltk.corpus import stopwords\n",
    "import re\n",
    "\n",
    "word_list=[]\n",
    "\n",
    "i=0\n",
    "\n",
    "# Iterating through each text\n",
    "for txt in data['text']:\n",
    "    \n",
    "    # splits txt into words, drop any non-alphabet characters\n",
    "     w_list = re.sub(r'[^a-z]',' ', txt.lower()).split() \n",
    "    \n",
    "    # add another columns with tokens of that text as features\n",
    "     data.loc[i, 'text1'] = ' '.join(w_list) \n",
    "        \n",
    "    # Remove stopwords from w_list\n",
    "     w_list = [w for w in w_list if w not in stopwords.words('english')] \n",
    "    \n",
    "    # List of all the tokens without stopwords\n",
    "     word_list += w_list \n",
    "    \n",
    "    # Incrementing the index variable\n",
    "     i += 1\n",
    "\n",
    "data.head()"
   ]
  },
  {
   "cell_type": "markdown",
   "metadata": {},
   "source": [
    "## Classifier Algorithm "
   ]
  },
  {
   "cell_type": "code",
   "execution_count": 10,
   "metadata": {},
   "outputs": [
    {
     "name": "stdout",
     "output_type": "stream",
     "text": [
      "[('u', 1228), ('call', 608), ('get', 397), ('ur', 391), ('gt', 318)]\n",
      "['u', 'call', 'get', 'ur', 'gt', 'lt', 'ok', 'go', 'free', 'know']\n"
     ]
    }
   ],
   "source": [
    "\n",
    "all_words_fd = nltk.FreqDist(word_list)\n",
    "word_common = all_words_fd.most_common(3000)\n",
    "word_features = [w[0] for w in word_common]\n",
    "\n",
    "print(word_common[0:5])\n",
    "print(word_features[0:10])"
   ]
  },
  {
   "cell_type": "code",
   "execution_count": 19,
   "metadata": {},
   "outputs": [],
   "source": [
    "def find_feature(document):\n",
    "    features = {}\n",
    "    words = document.split()\n",
    "    for w in word_common:\n",
    "        features[w[0]]=(w[0] in words) # true / false depending upon if common word found\n",
    "    return features\n",
    "\n",
    "Feature_set = []\n",
    "for i, row in enumerate(data.values):\n",
    "    label, text, text_len, text1 = row\n",
    "    Feature_set.append((find_feature(text1), label))  \n"
   ]
  },
  {
   "cell_type": "code",
   "execution_count": null,
   "metadata": {},
   "outputs": [],
   "source": [
    "# Feature set (list) for each text\n",
    "# The list has 2 elements, first one is a dictionary of 3000 elements and the label for that text."
   ]
  },
  {
   "cell_type": "code",
   "execution_count": 31,
   "metadata": {},
   "outputs": [
    {
     "name": "stdout",
     "output_type": "stream",
     "text": [
      "ham\n",
      "3000\n"
     ]
    },
    {
     "data": {
      "text/plain": [
       "{'u': False,\n",
       " 'call': False,\n",
       " 'get': False,\n",
       " 'ur': False,\n",
       " 'gt': False,\n",
       " 'lt': False,\n",
       " 'ok': False,\n",
       " 'go': True,\n",
       " 'free': False,\n",
       " 'know': False,\n",
       " 'like': False,\n",
       " 'good': False,\n",
       " 'day': False,\n",
       " 'got': True,\n",
       " 'come': False,\n",
       " 'time': False,\n",
       " 'love': False,\n",
       " 'send': False,\n",
       " 'want': False,\n",
       " 'text': False,\n",
       " 'p': False,\n",
       " 'txt': False,\n",
       " 'n': True,\n",
       " 'one': False,\n",
       " 'going': False,\n",
       " 'r': False,\n",
       " 'need': False,\n",
       " 'home': False,\n",
       " 'stop': False,\n",
       " 'lor': False,\n",
       " 'k': False,\n",
       " 'today': False,\n",
       " 'sorry': False,\n",
       " 'see': False,\n",
       " 'still': False,\n",
       " 'back': False,\n",
       " 'da': False,\n",
       " 'dont': False,\n",
       " 'reply': False,\n",
       " 'mobile': False,\n",
       " 'take': False,\n",
       " 'hi': False,\n",
       " 'tell': False,\n",
       " 'new': False,\n",
       " 'please': False,\n",
       " 'later': False,\n",
       " 'pls': False,\n",
       " 'think': False,\n",
       " 'c': False,\n",
       " 'phone': False,\n",
       " 'week': False,\n",
       " 'dear': False,\n",
       " 'well': False,\n",
       " 'night': False,\n",
       " 'much': False,\n",
       " 'great': True,\n",
       " 'oh': False,\n",
       " 'hope': False,\n",
       " 'claim': False,\n",
       " 'msg': False,\n",
       " 'hey': False,\n",
       " 'b': False,\n",
       " 'happy': False,\n",
       " 'wat': True,\n",
       " 'give': False,\n",
       " 'yes': False,\n",
       " 'way': False,\n",
       " 'make': False,\n",
       " 'work': False,\n",
       " 'www': False,\n",
       " 'e': True,\n",
       " 'number': False,\n",
       " 'message': False,\n",
       " 'say': False,\n",
       " 'prize': False,\n",
       " 'tomorrow': False,\n",
       " 'right': False,\n",
       " 'already': False,\n",
       " 'ask': False,\n",
       " 'said': False,\n",
       " 'cash': False,\n",
       " 'amp': False,\n",
       " 'yeah': False,\n",
       " 'im': False,\n",
       " 'really': False,\n",
       " 'win': False,\n",
       " 'life': False,\n",
       " 'meet': False,\n",
       " 'find': False,\n",
       " 'miss': False,\n",
       " 'let': False,\n",
       " 'morning': False,\n",
       " 'babe': False,\n",
       " 'thanks': False,\n",
       " 'last': False,\n",
       " 'com': False,\n",
       " 'anything': False,\n",
       " 'would': False,\n",
       " 'cos': False,\n",
       " 'uk': False,\n",
       " 'lol': False,\n",
       " 'nokia': False,\n",
       " 'also': False,\n",
       " 'every': False,\n",
       " 'care': False,\n",
       " 'sure': False,\n",
       " 'pick': False,\n",
       " 'urgent': False,\n",
       " 'min': False,\n",
       " 'sent': False,\n",
       " 'keep': False,\n",
       " 'something': False,\n",
       " 'x': False,\n",
       " 'contact': False,\n",
       " 'us': False,\n",
       " 'buy': False,\n",
       " 'gud': False,\n",
       " 'wait': False,\n",
       " 'cant': False,\n",
       " 'first': False,\n",
       " 'box': False,\n",
       " 'even': False,\n",
       " 'w': False,\n",
       " 'someone': False,\n",
       " 'thing': False,\n",
       " 'help': False,\n",
       " 'next': False,\n",
       " 'feel': False,\n",
       " 'nice': False,\n",
       " 'went': False,\n",
       " 'around': False,\n",
       " 'soon': False,\n",
       " 'tonight': False,\n",
       " 'could': False,\n",
       " 'place': False,\n",
       " 'money': False,\n",
       " 'service': False,\n",
       " 'tone': False,\n",
       " 'per': False,\n",
       " 'late': False,\n",
       " 'chat': False,\n",
       " 'mins': False,\n",
       " 'many': False,\n",
       " 'customer': False,\n",
       " 'gonna': False,\n",
       " 'always': False,\n",
       " 'sms': False,\n",
       " 'ya': False,\n",
       " 'sleep': False,\n",
       " 'leave': False,\n",
       " 'wan': False,\n",
       " 'co': False,\n",
       " 'dun': False,\n",
       " 'friends': False,\n",
       " 'v': False,\n",
       " 'pm': False,\n",
       " 'st': False,\n",
       " 'name': False,\n",
       " 'things': False,\n",
       " 'told': False,\n",
       " 'wish': False,\n",
       " 'hello': False,\n",
       " 'special': False,\n",
       " 'waiting': False,\n",
       " 'may': False,\n",
       " 'fine': False,\n",
       " 'try': False,\n",
       " 'friend': False,\n",
       " 'best': False,\n",
       " 'haha': False,\n",
       " 'coming': False,\n",
       " 'getting': False,\n",
       " 'done': False,\n",
       " 'year': False,\n",
       " 'guaranteed': False,\n",
       " 'yet': False,\n",
       " 'people': False,\n",
       " 'thk': False,\n",
       " 'days': False,\n",
       " 'use': False,\n",
       " 'ppm': False,\n",
       " 'heart': False,\n",
       " 'thought': False,\n",
       " 'holiday': False,\n",
       " 'th': False,\n",
       " 'god': False,\n",
       " 'stuff': False,\n",
       " 'lunch': False,\n",
       " 'live': False,\n",
       " 'man': False,\n",
       " 'g': False,\n",
       " 'person': False,\n",
       " 'talk': False,\n",
       " 'bit': False,\n",
       " 'class': False,\n",
       " 'smile': False,\n",
       " 'never': False,\n",
       " 'draw': False,\n",
       " 'cs': False,\n",
       " 'yup': False,\n",
       " 'trying': False,\n",
       " 'end': False,\n",
       " 'meeting': False,\n",
       " 'thats': False,\n",
       " 'cool': False,\n",
       " 'job': False,\n",
       " 'better': False,\n",
       " 'house': False,\n",
       " 'ill': False,\n",
       " 'line': False,\n",
       " 'pobox': False,\n",
       " 'finish': False,\n",
       " 'long': False,\n",
       " 'ready': False,\n",
       " 'mind': False,\n",
       " 'cost': False,\n",
       " 'car': False,\n",
       " 'dat': False,\n",
       " 'half': False,\n",
       " 'real': False,\n",
       " 'wk': False,\n",
       " 'account': False,\n",
       " 'enjoy': False,\n",
       " 'latest': False,\n",
       " 'month': False,\n",
       " 'play': False,\n",
       " 'check': False,\n",
       " 'yo': False,\n",
       " 'lot': False,\n",
       " 'bt': False,\n",
       " 'sir': False,\n",
       " 'chance': False,\n",
       " 'world': True,\n",
       " 'lar': False,\n",
       " 'receive': False,\n",
       " 'word': False,\n",
       " 'camera': False,\n",
       " 'eat': False,\n",
       " 'awarded': False,\n",
       " 'wanna': False,\n",
       " 'po': False,\n",
       " 'nothing': False,\n",
       " 'guess': False,\n",
       " 'luv': False,\n",
       " 'start': False,\n",
       " 'problem': False,\n",
       " 'another': False,\n",
       " 'liao': False,\n",
       " 'guys': False,\n",
       " 'big': False,\n",
       " 'shit': False,\n",
       " 'xxx': False,\n",
       " 'dinner': False,\n",
       " 'sweet': False,\n",
       " 'ah': False,\n",
       " 'birthday': False,\n",
       " 'shows': False,\n",
       " 'girl': False,\n",
       " 'hrs': False,\n",
       " 'jus': False,\n",
       " 'might': False,\n",
       " 'ever': False,\n",
       " 'quite': False,\n",
       " 'wont': False,\n",
       " 'watching': False,\n",
       " 'room': False,\n",
       " 'landline': False,\n",
       " 'offer': False,\n",
       " 'video': False,\n",
       " 'early': False,\n",
       " 'speak': False,\n",
       " 'nd': False,\n",
       " 'weekend': False,\n",
       " 'calls': False,\n",
       " 'hear': False,\n",
       " 'pa': False,\n",
       " 'bed': False,\n",
       " 'aight': False,\n",
       " 'tv': False,\n",
       " 'called': False,\n",
       " 'watch': False,\n",
       " 'thanx': False,\n",
       " 'two': False,\n",
       " 'probably': False,\n",
       " 'rate': False,\n",
       " 'apply': False,\n",
       " 'fun': False,\n",
       " 'remember': False,\n",
       " 'pay': False,\n",
       " 'left': False,\n",
       " 'ringtone': False,\n",
       " 'maybe': False,\n",
       " 'forgot': False,\n",
       " 'boy': False,\n",
       " 'nite': False,\n",
       " 'plan': False,\n",
       " 'shall': False,\n",
       " 'minutes': False,\n",
       " 'sat': False,\n",
       " 'actually': False,\n",
       " 'den': False,\n",
       " 'bad': False,\n",
       " 'princess': False,\n",
       " 'code': False,\n",
       " 'look': False,\n",
       " 'part': False,\n",
       " 'easy': False,\n",
       " 'reach': False,\n",
       " 'shopping': False,\n",
       " 'baby': False,\n",
       " 'made': False,\n",
       " 'dunno': False,\n",
       " 'orange': False,\n",
       " 'office': False,\n",
       " 'kiss': False,\n",
       " 'bus': False,\n",
       " 'dis': False,\n",
       " 'xx': False,\n",
       " 'anyway': False,\n",
       " 'award': False,\n",
       " 'age': False,\n",
       " 'little': False,\n",
       " 'leh': False,\n",
       " 'face': False,\n",
       " 'everything': False,\n",
       " 'didnt': False,\n",
       " 'true': False,\n",
       " 'hour': False,\n",
       " 'tones': False,\n",
       " 'network': False,\n",
       " 'selected': False,\n",
       " 'enough': False,\n",
       " 'thank': False,\n",
       " 'looking': False,\n",
       " 'working': False,\n",
       " 'put': False,\n",
       " 'fuck': False,\n",
       " 'wife': False,\n",
       " 'dad': False,\n",
       " 'town': False,\n",
       " 'entry': False,\n",
       " 'afternoon': False,\n",
       " 'without': False,\n",
       " 'missing': False,\n",
       " 'years': False,\n",
       " 'tmr': False,\n",
       " 'evening': False,\n",
       " 'collect': False,\n",
       " 'asked': False,\n",
       " 'gift': False,\n",
       " 'texts': False,\n",
       " 'wif': False,\n",
       " 'though': False,\n",
       " 'valid': False,\n",
       " 'times': False,\n",
       " 'wanted': False,\n",
       " 'since': False,\n",
       " 'pain': False,\n",
       " 'came': False,\n",
       " 'okay': False,\n",
       " 'says': False,\n",
       " 'must': False,\n",
       " 'school': False,\n",
       " 'join': False,\n",
       " 'mail': False,\n",
       " 'sexy': False,\n",
       " 'xmas': False,\n",
       " 'hav': False,\n",
       " 'important': False,\n",
       " 'details': False,\n",
       " 'goes': False,\n",
       " 'update': False,\n",
       " 'missed': False,\n",
       " 'means': False,\n",
       " 'abt': False,\n",
       " 'price': False,\n",
       " 'til': False,\n",
       " 'able': False,\n",
       " 'wake': False,\n",
       " 'guy': False,\n",
       " 'wot': False,\n",
       " 'bring': False,\n",
       " 'collection': False,\n",
       " 'messages': False,\n",
       " 'mob': False,\n",
       " 'wen': False,\n",
       " 'show': False,\n",
       " 'juz': False,\n",
       " 'decimal': False,\n",
       " 'plz': False,\n",
       " 'de': False,\n",
       " 'away': False,\n",
       " 'plus': False,\n",
       " 'alright': False,\n",
       " 'till': False,\n",
       " 'saw': False,\n",
       " 'yesterday': False,\n",
       " 'hair': False,\n",
       " 'havent': False,\n",
       " 'else': False,\n",
       " 'worry': False,\n",
       " 'shop': False,\n",
       " 'music': False,\n",
       " 'weekly': False,\n",
       " 'bored': False,\n",
       " 'attempt': False,\n",
       " 'colour': False,\n",
       " 'net': False,\n",
       " 'words': False,\n",
       " 'double': False,\n",
       " 'run': False,\n",
       " 'making': False,\n",
       " 'food': False,\n",
       " 'haf': False,\n",
       " 'coz': False,\n",
       " 'id': False,\n",
       " 'oso': False,\n",
       " 'optout': False,\n",
       " 'hurt': False,\n",
       " 'book': False,\n",
       " 'dude': False,\n",
       " 'j': False,\n",
       " 'stay': False,\n",
       " 'online': False,\n",
       " 'makes': False,\n",
       " 'goin': False,\n",
       " 'lei': False,\n",
       " 'question': False,\n",
       " 'hours': False,\n",
       " 'national': False,\n",
       " 'ard': False,\n",
       " 'tried': False,\n",
       " 'delivery': False,\n",
       " 'driving': False,\n",
       " 'test': False,\n",
       " 'address': False,\n",
       " 'answer': False,\n",
       " 'top': False,\n",
       " 'gr': False,\n",
       " 'hot': False,\n",
       " 'club': False,\n",
       " 'friendship': False,\n",
       " 'change': False,\n",
       " 'feeling': False,\n",
       " 'either': False,\n",
       " 'sch': False,\n",
       " 'family': False,\n",
       " 'dreams': False,\n",
       " 'date': False,\n",
       " 'http': False,\n",
       " 'bonus': False,\n",
       " 'trip': False,\n",
       " 'comes': False,\n",
       " 'movie': False,\n",
       " 'busy': False,\n",
       " 'todays': False,\n",
       " 'nt': False,\n",
       " 'order': False,\n",
       " 'believe': False,\n",
       " 'vouchers': False,\n",
       " 'wid': False,\n",
       " 'full': False,\n",
       " 'calling': False,\n",
       " 'tot': False,\n",
       " 'beautiful': False,\n",
       " 'sae': False,\n",
       " 'lose': False,\n",
       " 'game': False,\n",
       " 'together': False,\n",
       " 'wants': False,\n",
       " 'sad': False,\n",
       " 'brother': False,\n",
       " 'set': False,\n",
       " 'info': False,\n",
       " 'smiling': False,\n",
       " 'mean': False,\n",
       " 'old': False,\n",
       " 'points': False,\n",
       " 'leaving': False,\n",
       " 'story': False,\n",
       " 'sleeping': False,\n",
       " 'noe': False,\n",
       " 'happen': False,\n",
       " 'walk': False,\n",
       " 'ring': False,\n",
       " 'charge': False,\n",
       " 'games': False,\n",
       " 'chikku': False,\n",
       " 'huh': False,\n",
       " 'poly': False,\n",
       " 'eve': False,\n",
       " 'saying': False,\n",
       " 'drive': False,\n",
       " 'await': False,\n",
       " 'pounds': False,\n",
       " 'hl': False,\n",
       " 'news': False,\n",
       " 'aft': False,\n",
       " 'tomo': False,\n",
       " 'congrats': False,\n",
       " 'took': False,\n",
       " 'finished': False,\n",
       " 'started': False,\n",
       " 'private': False,\n",
       " 'awesome': False,\n",
       " 'minute': False,\n",
       " 'wil': False,\n",
       " 'okie': False,\n",
       " 'mths': False,\n",
       " 'post': False,\n",
       " 'suite': False,\n",
       " 'row': False,\n",
       " 'head': False,\n",
       " 'thinking': False,\n",
       " 'simple': False,\n",
       " 'pics': False,\n",
       " 'mum': False,\n",
       " 'email': False,\n",
       " 'rite': False,\n",
       " 'pic': False,\n",
       " 'available': True,\n",
       " 'final': False,\n",
       " 'tho': False,\n",
       " 'forget': False,\n",
       " 'second': False,\n",
       " 'close': False,\n",
       " 'cause': False,\n",
       " 'msgs': False,\n",
       " 'services': False,\n",
       " 'taking': False,\n",
       " 'everyone': False,\n",
       " 'smoke': False,\n",
       " 'touch': False,\n",
       " 'angry': False,\n",
       " 'unsubscribe': False,\n",
       " 'lets': False,\n",
       " 'drink': False,\n",
       " 'land': False,\n",
       " 'gd': False,\n",
       " 'mine': False,\n",
       " 'neva': False,\n",
       " 'pub': False,\n",
       " 'anyone': False,\n",
       " 'drop': False,\n",
       " 'auction': False,\n",
       " 'lesson': False,\n",
       " 'lucky': False,\n",
       " 'search': False,\n",
       " 'statement': False,\n",
       " 'expires': False,\n",
       " 'open': False,\n",
       " 'whats': False,\n",
       " 'lots': False,\n",
       " 'parents': False,\n",
       " 'carlos': False,\n",
       " 'worth': False,\n",
       " 'sis': False,\n",
       " 'found': False,\n",
       " 'break': False,\n",
       " 'sounds': False,\n",
       " 'company': False,\n",
       " 'choose': False,\n",
       " 'card': False,\n",
       " 'sister': False,\n",
       " 'dating': False,\n",
       " 'opt': False,\n",
       " 'whatever': False,\n",
       " 'voucher': False,\n",
       " 'sun': False,\n",
       " 'knw': False,\n",
       " 'loving': False,\n",
       " 'alone': False,\n",
       " 'treat': False,\n",
       " 'winner': False,\n",
       " 'wonderful': False,\n",
       " 'ha': False,\n",
       " 'smth': False,\n",
       " 'mom': False,\n",
       " 'saturday': False,\n",
       " 'decided': False,\n",
       " 'girls': False,\n",
       " 'prob': False,\n",
       " 'gone': False,\n",
       " 'happened': False,\n",
       " 'identifier': False,\n",
       " 'yr': False,\n",
       " 'type': False,\n",
       " 'ni': False,\n",
       " 'ltd': False,\n",
       " 'hard': False,\n",
       " 'f': False,\n",
       " 'frnd': False,\n",
       " 'needs': False,\n",
       " 'boytoy': False,\n",
       " 'college': False,\n",
       " 'rs': False,\n",
       " 'gbp': False,\n",
       " 'takes': False,\n",
       " 'anytime': False,\n",
       " 'far': False,\n",
       " 'l': False,\n",
       " 'lands': False,\n",
       " 'mobileupd': False,\n",
       " 'bout': False,\n",
       " 'kind': False,\n",
       " 'nyt': False,\n",
       " 'visit': False,\n",
       " 'fast': False,\n",
       " 'hows': False,\n",
       " 'crazy': True,\n",
       " 'camcorder': False,\n",
       " 'used': False,\n",
       " 'hit': False,\n",
       " 'operator': False,\n",
       " 'friday': False,\n",
       " 'quiz': False,\n",
       " 'player': False,\n",
       " 'hand': False,\n",
       " 'content': False,\n",
       " 'wit': False,\n",
       " 'finally': False,\n",
       " 'mrng': False,\n",
       " 'darlin': False,\n",
       " 'goodmorning': False,\n",
       " 'oredi': False,\n",
       " 'secret': False,\n",
       " 'tel': False,\n",
       " 'congratulations': False,\n",
       " 'hold': False,\n",
       " 'read': False,\n",
       " 'light': False,\n",
       " 'fucking': False,\n",
       " 'nope': False,\n",
       " 'outside': False,\n",
       " 'fri': False,\n",
       " 'pretty': False,\n",
       " 'sea': False,\n",
       " 'weeks': False,\n",
       " 'lovely': False,\n",
       " 'mates': False,\n",
       " 'wrong': False,\n",
       " 'least': False,\n",
       " 'party': False,\n",
       " 'chennai': False,\n",
       " 'wkly': False,\n",
       " 'freemsg': False,\n",
       " 'sunday': False,\n",
       " 'credit': False,\n",
       " 'wq': False,\n",
       " 'hungry': False,\n",
       " 'seeing': False,\n",
       " 'telling': False,\n",
       " 'whole': False,\n",
       " 'frnds': False,\n",
       " 'hmm': False,\n",
       " 'mu': False,\n",
       " 'fancy': False,\n",
       " 'bank': False,\n",
       " 'log': False,\n",
       " 'course': False,\n",
       " 'tc': False,\n",
       " 'thinks': False,\n",
       " 'case': False,\n",
       " 'meant': False,\n",
       " 'fr': False,\n",
       " 'unlimited': False,\n",
       " 'blue': False,\n",
       " 'fone': False,\n",
       " 'jay': False,\n",
       " 'project': False,\n",
       " 'reason': False,\n",
       " 'ten': False,\n",
       " 'welcome': False,\n",
       " 'cum': False,\n",
       " 'frm': False,\n",
       " 'savamob': False,\n",
       " 'offers': False,\n",
       " 'listen': False,\n",
       " 'snow': False,\n",
       " 'mate': False,\n",
       " 'earlier': False,\n",
       " 'point': True,\n",
       " 'press': False,\n",
       " 'valued': False,\n",
       " 'months': False,\n",
       " 'mobiles': False,\n",
       " 'eh': False,\n",
       " 'almost': False,\n",
       " 'etc': False,\n",
       " 'cut': False,\n",
       " 'hee': False,\n",
       " 'download': False,\n",
       " 'mah': False,\n",
       " 'felt': False,\n",
       " 'invited': False,\n",
       " 'caller': False,\n",
       " 'numbers': False,\n",
       " 'tired': False,\n",
       " 'hmmm': False,\n",
       " 'mr': False,\n",
       " 'balance': False,\n",
       " 'march': False,\n",
       " 'side': False,\n",
       " 'dnt': False,\n",
       " 'stupid': False,\n",
       " 'die': False,\n",
       " 'bslvyl': False,\n",
       " 'lost': False,\n",
       " 'christmas': False,\n",
       " 'reading': False,\n",
       " 'txts': False,\n",
       " 'ago': False,\n",
       " 'currently': False,\n",
       " 'motorola': False,\n",
       " 'talking': False,\n",
       " 'couple': False,\n",
       " 'phones': False,\n",
       " 'ass': False,\n",
       " 'india': False,\n",
       " 'sk': False,\n",
       " 'park': False,\n",
       " 'within': False,\n",
       " 'un': False,\n",
       " 'yar': False,\n",
       " 'happiness': False,\n",
       " 'area': False,\n",
       " 'sex': False,\n",
       " 'mayb': False,\n",
       " 'understand': False,\n",
       " 'yrs': False,\n",
       " 'knew': False,\n",
       " 'gn': False,\n",
       " 'support': False,\n",
       " 'na': False,\n",
       " 'luck': False,\n",
       " 'enter': False,\n",
       " 'john': False,\n",
       " 'gas': False,\n",
       " 'father': False,\n",
       " 'comp': False,\n",
       " 'charged': False,\n",
       " 'confirm': False,\n",
       " 'wow': False,\n",
       " 'ac': False,\n",
       " 'red': False,\n",
       " 'correct': False,\n",
       " 'pass': False,\n",
       " 'song': False,\n",
       " 'complimentary': False,\n",
       " 'gotta': False,\n",
       " 'loads': False,\n",
       " 'computer': False,\n",
       " 'askd': False,\n",
       " 'uncle': False,\n",
       " 'sending': False,\n",
       " 'direct': False,\n",
       " 'joy': False,\n",
       " 'semester': False,\n",
       " 'bcoz': False,\n",
       " 'reveal': False,\n",
       " 'laptop': False,\n",
       " 'questions': False,\n",
       " 'swing': False,\n",
       " 'ge': False,\n",
       " 'ends': False,\n",
       " 'via': False,\n",
       " 'ish': False,\n",
       " 'met': False,\n",
       " 'seen': False,\n",
       " 'rental': False,\n",
       " 'supposed': False,\n",
       " 'doin': False,\n",
       " 'ipod': False,\n",
       " 'redeemed': False,\n",
       " 'max': False,\n",
       " 'gym': False,\n",
       " 'darren': False,\n",
       " 'sound': False,\n",
       " 'xy': False,\n",
       " 'ans': False,\n",
       " 'picking': False,\n",
       " 'ugh': False,\n",
       " 'extra': False,\n",
       " 'heard': False,\n",
       " 'information': False,\n",
       " 'surprise': False,\n",
       " 'grins': False,\n",
       " 'gal': False,\n",
       " 'difficult': False,\n",
       " 'std': False,\n",
       " 'usf': False,\n",
       " 'reward': False,\n",
       " 'wap': False,\n",
       " 'eg': False,\n",
       " 'comin': False,\n",
       " 'abiola': False,\n",
       " 'crave': False,\n",
       " 'gets': False,\n",
       " 'move': False,\n",
       " 'checking': False,\n",
       " 'rply': False,\n",
       " 'shower': False,\n",
       " 'entered': False,\n",
       " 'match': False,\n",
       " 'dogging': False,\n",
       " 'txting': False,\n",
       " 'lovable': False,\n",
       " 'wine': False,\n",
       " 'dream': False,\n",
       " 'safe': False,\n",
       " 'muz': False,\n",
       " 'bath': False,\n",
       " 'orchard': False,\n",
       " 'kate': False,\n",
       " 'exam': False,\n",
       " 'wana': False,\n",
       " 'hmv': False,\n",
       " 'somebody': False,\n",
       " 'rest': False,\n",
       " 'pete': False,\n",
       " 'plans': False,\n",
       " 'small': False,\n",
       " 'weed': False,\n",
       " 'ex': False,\n",
       " 'hg': False,\n",
       " 'discount': False,\n",
       " 'slow': False,\n",
       " 'rock': False,\n",
       " 'yep': False,\n",
       " 'asking': False,\n",
       " 'remove': False,\n",
       " 'terms': False,\n",
       " 'monday': False,\n",
       " 'blood': False,\n",
       " 'clean': False,\n",
       " 'noon': False,\n",
       " 'ts': False,\n",
       " 'paper': False,\n",
       " 'sell': False,\n",
       " 'store': False,\n",
       " 'wonder': False,\n",
       " 'whenever': False,\n",
       " 'sort': False,\n",
       " 'asap': False,\n",
       " 'truth': False,\n",
       " 'feels': False,\n",
       " 'nobody': False,\n",
       " 'loved': False,\n",
       " 'slowly': False,\n",
       " 'police': False,\n",
       " 'la': True,\n",
       " 'cup': False,\n",
       " 'nah': False,\n",
       " 'callertune': False,\n",
       " 'link': False,\n",
       " 'england': False,\n",
       " 'worried': False,\n",
       " 'knows': False,\n",
       " 'oops': False,\n",
       " 'hospital': False,\n",
       " 'reached': False,\n",
       " 'forever': False,\n",
       " 'save': False,\n",
       " 'tickets': False,\n",
       " 'il': False,\n",
       " 'representative': False,\n",
       " 'h': False,\n",
       " 'gave': False,\n",
       " 'rates': False,\n",
       " 'del': False,\n",
       " 'sony': False,\n",
       " 'pray': False,\n",
       " 'spend': False,\n",
       " 'bathe': False,\n",
       " 'bill': False,\n",
       " 'study': False,\n",
       " 'street': False,\n",
       " 'admirer': False,\n",
       " 'deep': False,\n",
       " 'leaves': False,\n",
       " 'usual': False,\n",
       " 'tonite': False,\n",
       " 'somewhere': False,\n",
       " 'normal': False,\n",
       " 'merry': False,\n",
       " 'immediately': False,\n",
       " 'custcare': False,\n",
       " 'figure': False,\n",
       " 'rakhesh': False,\n",
       " 'moment': False,\n",
       " 'woke': False,\n",
       " 'mm': False,\n",
       " 'voice': False,\n",
       " 'ldn': False,\n",
       " 'wc': False,\n",
       " 'booked': False,\n",
       " 'different': False,\n",
       " 'water': False,\n",
       " 'near': False,\n",
       " 'less': False,\n",
       " 'sub': False,\n",
       " 'hoping': False,\n",
       " 'across': False,\n",
       " 'warm': False,\n",
       " 'cheap': False,\n",
       " 'kids': False,\n",
       " 'em': False,\n",
       " 'drugs': False,\n",
       " 'laugh': False,\n",
       " 'king': False,\n",
       " 'fantastic': False,\n",
       " 'glad': False,\n",
       " 'wishing': False,\n",
       " 'getzed': False,\n",
       " 'gettin': False,\n",
       " 'poor': False,\n",
       " 'otherwise': False,\n",
       " 'ntt': False,\n",
       " 'cr': False,\n",
       " 'rd': False,\n",
       " 'convey': False,\n",
       " 'film': False,\n",
       " 'energy': False,\n",
       " 'ringtones': False,\n",
       " 'bb': False,\n",
       " 'write': False,\n",
       " 'fact': False,\n",
       " 'hw': False,\n",
       " 'empty': False,\n",
       " 'copy': False,\n",
       " 'promise': False,\n",
       " 'seriously': False,\n",
       " 'sick': False,\n",
       " 'catch': False,\n",
       " 'decide': False,\n",
       " 'ice': False,\n",
       " 'bx': False,\n",
       " 'ip': False,\n",
       " 'situation': False,\n",
       " 'short': False,\n",
       " 'rain': False,\n",
       " 'coffee': False,\n",
       " 'men': False,\n",
       " 'boss': False,\n",
       " 'specially': False,\n",
       " 'ending': False,\n",
       " 'buying': False,\n",
       " 'sunshine': False,\n",
       " 'lazy': False,\n",
       " 'lect': False,\n",
       " 'completely': False,\n",
       " 'staying': False,\n",
       " 'doesnt': False,\n",
       " 'especially': False,\n",
       " 'studying': False,\n",
       " 'trust': False,\n",
       " 'using': False,\n",
       " 'deal': False,\n",
       " 'dead': False,\n",
       " 'mrt': False,\n",
       " 'ive': False,\n",
       " 'lessons': False,\n",
       " 'goodnight': False,\n",
       " 'cd': False,\n",
       " 'ldew': False,\n",
       " 'lover': False,\n",
       " 'disturb': False,\n",
       " 'credits': False,\n",
       " 'worries': False,\n",
       " 'unless': False,\n",
       " 'accept': False,\n",
       " 'access': False,\n",
       " 'valentines': False,\n",
       " 'rcvd': False,\n",
       " 'urself': False,\n",
       " 'bluetooth': False,\n",
       " 'brings': False,\n",
       " 'al': False,\n",
       " 'none': False,\n",
       " 'starts': False,\n",
       " 'kinda': False,\n",
       " 'loan': False,\n",
       " 'meh': False,\n",
       " 'rent': False,\n",
       " 'silent': False,\n",
       " 'children': False,\n",
       " 'self': False,\n",
       " 'pound': False,\n",
       " 'train': False,\n",
       " 'valentine': False,\n",
       " 'forwarded': False,\n",
       " 'pc': False,\n",
       " 'starting': False,\n",
       " 'ho': False,\n",
       " 'bold': False,\n",
       " 'seems': False,\n",
       " 'eyes': False,\n",
       " 'possible': False,\n",
       " 'summer': False,\n",
       " 'norm': False,\n",
       " ...}"
      ]
     },
     "execution_count": 31,
     "metadata": {},
     "output_type": "execute_result"
    }
   ],
   "source": [
    "print(Feature_set[0][1])\n",
    "print(len(Feature_set[0][0]))\n",
    "Feature_set[0][0]\n"
   ]
  },
  {
   "cell_type": "code",
   "execution_count": 32,
   "metadata": {},
   "outputs": [
    {
     "name": "stdout",
     "output_type": "stream",
     "text": [
      "go\n",
      "got\n",
      "n\n",
      "great\n",
      "wat\n",
      "e\n",
      "world\n",
      "available\n",
      "crazy\n",
      "point\n",
      "la\n",
      "bugis\n",
      "cine\n",
      "buffet\n"
     ]
    }
   ],
   "source": [
    "for key, value in Feature_set[0][0].items():\n",
    "    if value == True:\n",
    "        print(key)"
   ]
  },
  {
   "cell_type": "markdown",
   "metadata": {},
   "source": [
    "#### Splitting data into Training and Testing Dataset and fitting the model"
   ]
  },
  {
   "cell_type": "code",
   "execution_count": 33,
   "metadata": {},
   "outputs": [],
   "source": [
    "train_set = Feature_set[:3000]\n",
    "test_set = Feature_set[3000:]\n",
    "classifier = nltk.NaiveBayesClassifier.train(train_set)"
   ]
  },
  {
   "cell_type": "code",
   "execution_count": 34,
   "metadata": {},
   "outputs": [
    {
     "name": "stdout",
     "output_type": "stream",
     "text": [
      "3000\n",
      "2572\n"
     ]
    }
   ],
   "source": [
    "print(len(train_set))\n",
    "print(len(test_set))"
   ]
  },
  {
   "cell_type": "markdown",
   "metadata": {},
   "source": [
    "### Evaluation with Accuracy"
   ]
  },
  {
   "cell_type": "code",
   "execution_count": 81,
   "metadata": {},
   "outputs": [
    {
     "name": "stdout",
     "output_type": "stream",
     "text": [
      "Naive bayes algorithm accuracy percent: 98.250\n"
     ]
    }
   ],
   "source": [
    "print(\"Naive bayes algorithm accuracy percent: {:.3f}\".format((nltk.classify.accuracy(classifier,test_set)) * 100))"
   ]
  },
  {
   "cell_type": "code",
   "execution_count": 82,
   "metadata": {},
   "outputs": [
    {
     "name": "stdout",
     "output_type": "stream",
     "text": [
      "Most Informative Features\n",
      "                     www = True             spam : ham    =    238.1 : 1.0\n",
      "                     box = True             spam : ham    =    166.5 : 1.0\n",
      "                       p = True             spam : ham    =    135.6 : 1.0\n",
      "                 service = True             spam : ham    =    128.5 : 1.0\n",
      "                     txt = True             spam : ham    =     86.4 : 1.0\n",
      "                landline = True             spam : ham    =     73.8 : 1.0\n",
      "                     age = True             spam : ham    =     65.3 : 1.0\n",
      "                    rate = True             spam : ham    =     65.3 : 1.0\n",
      "                  mobile = True             spam : ham    =     62.6 : 1.0\n",
      "                    code = True             spam : ham    =     61.1 : 1.0\n",
      "                     win = True             spam : ham    =     59.7 : 1.0\n",
      "                      po = True             spam : ham    =     56.9 : 1.0\n",
      "                   video = True             spam : ham    =     48.5 : 1.0\n",
      "                   suite = True             spam : ham    =     48.5 : 1.0\n",
      "                   award = True             spam : ham    =     48.5 : 1.0\n",
      "                  latest = True             spam : ham    =     46.8 : 1.0\n",
      "                 content = True             spam : ham    =     44.3 : 1.0\n",
      "                    draw = True             spam : ham    =     42.4 : 1.0\n",
      "                  urgent = True             spam : ham    =     40.8 : 1.0\n",
      "                services = True             spam : ham    =     40.0 : 1.0\n",
      "         congratulations = True             spam : ham    =     40.0 : 1.0\n",
      "                  pounds = True             spam : ham    =     40.0 : 1.0\n",
      "                   apply = True             spam : ham    =     36.7 : 1.0\n",
      "                  orange = True             spam : ham    =     36.7 : 1.0\n",
      "                 private = True             spam : ham    =     35.8 : 1.0\n",
      "                  offers = True             spam : ham    =     35.8 : 1.0\n",
      "                    chat = True             spam : ham    =     34.4 : 1.0\n",
      "                    cash = True             spam : ham    =     33.3 : 1.0\n",
      "                   music = True             spam : ham    =     31.6 : 1.0\n",
      "                sunshine = True             spam : ham    =     31.6 : 1.0\n"
     ]
    }
   ],
   "source": [
    "classifier.show_most_informative_features(30)"
   ]
  },
  {
   "cell_type": "markdown",
   "metadata": {},
   "source": [
    "## Predicting with our training Model"
   ]
  },
  {
   "cell_type": "code",
   "execution_count": 83,
   "metadata": {},
   "outputs": [
    {
     "name": "stdout",
     "output_type": "stream",
     "text": [
      "call\n",
      "mobile\n",
      "please\n",
      "number\n",
      "thanks\n",
      "x\n",
      "tone\n",
      "customer\n",
      "ringtone\n",
      "order\n",
      "services\n",
      "charged\n",
      "reference\n",
      "arrive\n",
      "\n",
      "Prediction = spam\n"
     ]
    }
   ],
   "source": [
    "test_example = test_set[222][0]\n",
    "\n",
    "for key, value in test_example.items():\n",
    "    if (value): print(key)\n",
    "        \n",
    "print(\"\\nPrediction =\", classifier.classify(test_example))"
   ]
  },
  {
   "cell_type": "code",
   "execution_count": 84,
   "metadata": {},
   "outputs": [
    {
     "name": "stdout",
     "output_type": "stream",
     "text": [
      "way\n",
      "could\n",
      "late\n",
      "haha\n",
      "better\n",
      "ever\n",
      "swing\n",
      "\n",
      "Prediction = ham\n"
     ]
    }
   ],
   "source": [
    "test_example = test_set[130][0]\n",
    "\n",
    "for key, value in test_example.items():\n",
    "    if (value): print(key)\n",
    "        \n",
    "print(\"\\nPrediction =\", classifier.classify(test_example))"
   ]
  },
  {
   "cell_type": "markdown",
   "metadata": {},
   "source": [
    "## Named Entity Recognition"
   ]
  },
  {
   "cell_type": "markdown",
   "metadata": {},
   "source": [
    "#### Using NLTK's Chunk"
   ]
  },
  {
   "cell_type": "code",
   "execution_count": 46,
   "metadata": {},
   "outputs": [
    {
     "name": "stdout",
     "output_type": "stream",
     "text": [
      "('Nick', 'NNP', 'B-PERSON')\n",
      "('Andrew', 'NNP', 'B-PERSON')\n",
      "('Walmart', 'NNP', 'B-ORGANIZATION')\n"
     ]
    }
   ],
   "source": [
    "sentence = 'Nick and Andrew are best friends and both work at Walmart'\n",
    "ne_tree = nltk.ne_chunk(nltk.pos_tag(nltk.word_tokenize(sentence)))\n",
    "iob_tagged = nltk.chunk.tree2conlltags(ne_tree)\n",
    "\n",
    "for item in iob_tagged:\n",
    "    if item[2] != 'O':\n",
    "        print(item)"
   ]
  },
  {
   "cell_type": "markdown",
   "metadata": {},
   "source": [
    "#### Using Stanford NER Tagger"
   ]
  },
  {
   "cell_type": "code",
   "execution_count": null,
   "metadata": {},
   "outputs": [],
   "source": [
    "from nltk.tag import StanfordNERTagger\n",
    "from nltk.tokenize import word_tokenize\n",
    "\n",
    "st = StanfordNERTagger   ('stanford-ner-model/classifiers/english.all.3class.distsim.crf.ser.gz',\n",
    "                        'stanford-ner-model/stanford-ner.jar',\n",
    "                        encoding='utf-8')\n",
    "\n",
    "tokenized_text = word_tokenize(sentence)\n",
    "classified_text = st.tag(tokenized_text)\n",
    "\n",
    "for item in classified_text:\n",
    "    if item[1] != 'O':\n",
    "        print(item)"
   ]
  },
  {
   "cell_type": "markdown",
   "metadata": {},
   "source": [
    "#### Ran stanford-ner-model\n",
    "\n",
    "('Nick', 'NNP', 'B-PERSON')\n",
    "('Andrew', 'NNP', 'B-PERSON')\n",
    "('Walmart', 'NNP', 'B-ORGANIZATION')"
   ]
  },
  {
   "cell_type": "markdown",
   "metadata": {},
   "source": [
    "## Edit Distance Implementation"
   ]
  },
  {
   "cell_type": "code",
   "execution_count": 31,
   "metadata": {},
   "outputs": [
    {
     "name": "stdout",
     "output_type": "stream",
     "text": [
      "1\n",
      "2\n",
      "3\n"
     ]
    }
   ],
   "source": [
    "def levenshteinDistance(s1, s2):\n",
    "    if len(s1) > len(s2):\n",
    "        s1, s2 = s2, s1\n",
    "\n",
    "    distances = range(len(s1) + 1)\n",
    "    for i2, c2 in enumerate(s2):\n",
    "        distances_ = [i2 + 1 ]\n",
    "        for i1, c1 in enumerate(s1):\n",
    "            if c1 == c2:\n",
    "                distances_.append(distances[i1])\n",
    "            else:\n",
    "                distances_.append(1 + min((distances[i1], distances[i1 + 1], distances_[-1])))\n",
    "        distances = distances_\n",
    "    return distances[-1]\n",
    "\n",
    "print(levenshteinDistance(\"Python\", \"Pythonn\")) # One deletion\n",
    "print(levenshteinDistance(\"Python\", \"PythoEnn\")) # One substitution, one Deletion\n",
    "print(levenshteinDistance(\"Python\", \"Yythoms\")) # Two Substitution, one deletion"
   ]
  },
  {
   "cell_type": "markdown",
   "metadata": {},
   "source": [
    "# Cosine similarity"
   ]
  },
  {
   "cell_type": "code",
   "execution_count": 4,
   "metadata": {},
   "outputs": [],
   "source": [
    "from scipy import spatial\n",
    "from sklearn.metrics.pairwise import cosine_similarity"
   ]
  },
  {
   "cell_type": "code",
   "execution_count": 10,
   "metadata": {},
   "outputs": [],
   "source": [
    "dataSetI = [3, 31161, 7, 2]\n",
    "dataSetII = [2, 54, 13, 66413]"
   ]
  },
  {
   "cell_type": "markdown",
   "metadata": {},
   "source": [
    "### Cosine Similarity using SciPy"
   ]
  },
  {
   "cell_type": "code",
   "execution_count": 6,
   "metadata": {},
   "outputs": [
    {
     "data": {
      "text/plain": [
       "0.005416318512227902"
      ]
     },
     "execution_count": 6,
     "metadata": {},
     "output_type": "execute_result"
    }
   ],
   "source": [
    "result_scipy = 1 - spatial.distance.cosine(dataSetI, dataSetII)\n",
    "result_scipy"
   ]
  },
  {
   "cell_type": "markdown",
   "metadata": {},
   "source": [
    "### Cosine Similarity using SK-Learn"
   ]
  },
  {
   "cell_type": "code",
   "execution_count": 18,
   "metadata": {},
   "outputs": [
    {
     "data": {
      "text/plain": [
       "0.000877"
      ]
     },
     "execution_count": 18,
     "metadata": {},
     "output_type": "execute_result"
    }
   ],
   "source": [
    "datasetI_sk = np.array(dataSetI).reshape(1, -1)\n",
    "datasetII_sk = np.array(dataSetII).reshape(1, -1)\n",
    "\n",
    "result_sklearn = cosine_similarity(datasetI_sk, datasetII_sk)\n",
    "result_sklearn[0][0].round(6)"
   ]
  },
  {
   "cell_type": "markdown",
   "metadata": {},
   "source": [
    "### Cosine Similarity by raw linear Algebra"
   ]
  },
  {
   "cell_type": "code",
   "execution_count": 43,
   "metadata": {},
   "outputs": [
    {
     "data": {
      "text/plain": [
       "0.000877"
      ]
     },
     "execution_count": 43,
     "metadata": {},
     "output_type": "execute_result"
    }
   ],
   "source": [
    "def cos_sim(a, b):\n",
    "    dot_product = np.dot(a, b)\n",
    "    norm_a = np.linalg.norm(a)\n",
    "    norm_b = np.linalg.norm(b)\n",
    "    return dot_product / (norm_a * norm_b)\n",
    "\n",
    "result_manual = cos_sim(np.array(dataSetI), np.array(dataSetII))\n",
    "result_manual.round(6)"
   ]
  },
  {
   "cell_type": "markdown",
   "metadata": {},
   "source": [
    "## A Simple conversational interface for a chatbot system"
   ]
  },
  {
   "cell_type": "code",
   "execution_count": 2,
   "metadata": {},
   "outputs": [],
   "source": [
    "def bot_logic(incomming):\n",
    "    # crazy logic such as \n",
    "        # normalisatoin, \n",
    "        # vectorisation, \n",
    "        # NER, \n",
    "        # Calls to external APIs\n",
    "        # Natural Language Generation NLG\n",
    "        \n",
    "        # One nice framework to autmate much of the above is to use, RASA-NLU\n",
    "    \n",
    "    reply = ''.join(reversed(incomming)) + ' bla bla'\n",
    "    return reply"
   ]
  },
  {
   "cell_type": "code",
   "execution_count": 35,
   "metadata": {},
   "outputs": [
    {
     "name": "stdout",
     "output_type": "stream",
     "text": [
      "Chat with the System -- Enter 'Q' to quit.\n",
      "\n",
      "User: hi\n",
      "Bot:  ih bla bla \n",
      "\n",
      "User: hello\n",
      "Bot:  olleh bla bla \n",
      "\n",
      "User: q\n"
     ]
    }
   ],
   "source": [
    "print(\"Chat with the System -- Enter 'Q' to quit.\\n\")\n",
    "\n",
    "interaction_count = 1\n",
    "while True:\n",
    "    text = input(\"User: \").lower()\n",
    "    if (text.lower().strip() == 'q'):\n",
    "        break\n",
    "    \n",
    "    response = bot_logic(text)\n",
    "       \n",
    "    print(\"Bot: \", response, \"\\n\")\n",
    "    interaction_count += 1\n"
   ]
  }
 ],
 "metadata": {
  "kernelspec": {
   "display_name": "Python 3",
   "language": "python",
   "name": "python3"
  },
  "language_info": {
   "codemirror_mode": {
    "name": "ipython",
    "version": 3
   },
   "file_extension": ".py",
   "mimetype": "text/x-python",
   "name": "python",
   "nbconvert_exporter": "python",
   "pygments_lexer": "ipython3",
   "version": "3.8.8"
  }
 },
 "nbformat": 4,
 "nbformat_minor": 2
}
